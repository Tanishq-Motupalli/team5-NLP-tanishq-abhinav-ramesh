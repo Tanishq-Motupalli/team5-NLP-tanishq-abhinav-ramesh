{
  "nbformat": 4,
  "nbformat_minor": 0,
  "metadata": {
    "colab": {
      "provenance": [],
      "include_colab_link": true
    },
    "kernelspec": {
      "name": "python3",
      "display_name": "Python 3"
    },
    "language_info": {
      "name": "python"
    }
  },
  "cells": [
    {
      "cell_type": "markdown",
      "metadata": {
        "id": "view-in-github",
        "colab_type": "text"
      },
      "source": [
        "<a href=\"https://colab.research.google.com/github/Tanishq-Motupalli/team5-NLP-tanishq-abhinav-ramesh/blob/main/Question_answering.ipynb\" target=\"_parent\"><img src=\"https://colab.research.google.com/assets/colab-badge.svg\" alt=\"Open In Colab\"/></a>"
      ]
    },
    {
      "cell_type": "code",
      "source": [
        "!pip install torch\n",
        "# The '!' at the beginning of the line tells the Jupyter Notebook or Colab environment to execute this as a shell command, rather than as Python code.\n",
        "# 'pip install torch' is the actual command that installs the PyTorch library on your system.\n",
        "# PyTorch is a popular open-source machine learning library for Python, widely used for building and training deep neural networks.\n",
        "# After running this command, the PyTorch library will be installed and available for use in your Python scripts."
      ],
      "metadata": {
        "colab": {
          "base_uri": "https://localhost:8080/"
        },
        "id": "KFMsIZbChns0",
        "outputId": "0e7232b5-43fc-4f14-d2d4-0cef7fb748e9"
      },
      "execution_count": null,
      "outputs": [
        {
          "output_type": "stream",
          "name": "stdout",
          "text": [
            "Requirement already satisfied: torch in /usr/local/lib/python3.10/dist-packages (2.2.1+cu121)\n",
            "Requirement already satisfied: filelock in /usr/local/lib/python3.10/dist-packages (from torch) (3.13.4)\n",
            "Requirement already satisfied: typing-extensions>=4.8.0 in /usr/local/lib/python3.10/dist-packages (from torch) (4.11.0)\n",
            "Requirement already satisfied: sympy in /usr/local/lib/python3.10/dist-packages (from torch) (1.12)\n",
            "Requirement already satisfied: networkx in /usr/local/lib/python3.10/dist-packages (from torch) (3.3)\n",
            "Requirement already satisfied: jinja2 in /usr/local/lib/python3.10/dist-packages (from torch) (3.1.3)\n",
            "Requirement already satisfied: fsspec in /usr/local/lib/python3.10/dist-packages (from torch) (2023.6.0)\n",
            "Collecting nvidia-cuda-nvrtc-cu12==12.1.105 (from torch)\n",
            "  Using cached nvidia_cuda_nvrtc_cu12-12.1.105-py3-none-manylinux1_x86_64.whl (23.7 MB)\n",
            "Collecting nvidia-cuda-runtime-cu12==12.1.105 (from torch)\n",
            "  Using cached nvidia_cuda_runtime_cu12-12.1.105-py3-none-manylinux1_x86_64.whl (823 kB)\n",
            "Collecting nvidia-cuda-cupti-cu12==12.1.105 (from torch)\n",
            "  Using cached nvidia_cuda_cupti_cu12-12.1.105-py3-none-manylinux1_x86_64.whl (14.1 MB)\n",
            "Collecting nvidia-cudnn-cu12==8.9.2.26 (from torch)\n",
            "  Using cached nvidia_cudnn_cu12-8.9.2.26-py3-none-manylinux1_x86_64.whl (731.7 MB)\n",
            "Collecting nvidia-cublas-cu12==12.1.3.1 (from torch)\n",
            "  Using cached nvidia_cublas_cu12-12.1.3.1-py3-none-manylinux1_x86_64.whl (410.6 MB)\n",
            "Collecting nvidia-cufft-cu12==11.0.2.54 (from torch)\n",
            "  Using cached nvidia_cufft_cu12-11.0.2.54-py3-none-manylinux1_x86_64.whl (121.6 MB)\n",
            "Collecting nvidia-curand-cu12==10.3.2.106 (from torch)\n",
            "  Using cached nvidia_curand_cu12-10.3.2.106-py3-none-manylinux1_x86_64.whl (56.5 MB)\n",
            "Collecting nvidia-cusolver-cu12==11.4.5.107 (from torch)\n",
            "  Using cached nvidia_cusolver_cu12-11.4.5.107-py3-none-manylinux1_x86_64.whl (124.2 MB)\n",
            "Collecting nvidia-cusparse-cu12==12.1.0.106 (from torch)\n",
            "  Using cached nvidia_cusparse_cu12-12.1.0.106-py3-none-manylinux1_x86_64.whl (196.0 MB)\n",
            "Collecting nvidia-nccl-cu12==2.19.3 (from torch)\n",
            "  Using cached nvidia_nccl_cu12-2.19.3-py3-none-manylinux1_x86_64.whl (166.0 MB)\n",
            "Collecting nvidia-nvtx-cu12==12.1.105 (from torch)\n",
            "  Using cached nvidia_nvtx_cu12-12.1.105-py3-none-manylinux1_x86_64.whl (99 kB)\n",
            "Requirement already satisfied: triton==2.2.0 in /usr/local/lib/python3.10/dist-packages (from torch) (2.2.0)\n",
            "Collecting nvidia-nvjitlink-cu12 (from nvidia-cusolver-cu12==11.4.5.107->torch)\n",
            "  Using cached nvidia_nvjitlink_cu12-12.4.127-py3-none-manylinux2014_x86_64.whl (21.1 MB)\n",
            "Requirement already satisfied: MarkupSafe>=2.0 in /usr/local/lib/python3.10/dist-packages (from jinja2->torch) (2.1.5)\n",
            "Requirement already satisfied: mpmath>=0.19 in /usr/local/lib/python3.10/dist-packages (from sympy->torch) (1.3.0)\n",
            "Installing collected packages: nvidia-nvtx-cu12, nvidia-nvjitlink-cu12, nvidia-nccl-cu12, nvidia-curand-cu12, nvidia-cufft-cu12, nvidia-cuda-runtime-cu12, nvidia-cuda-nvrtc-cu12, nvidia-cuda-cupti-cu12, nvidia-cublas-cu12, nvidia-cusparse-cu12, nvidia-cudnn-cu12, nvidia-cusolver-cu12\n",
            "Successfully installed nvidia-cublas-cu12-12.1.3.1 nvidia-cuda-cupti-cu12-12.1.105 nvidia-cuda-nvrtc-cu12-12.1.105 nvidia-cuda-runtime-cu12-12.1.105 nvidia-cudnn-cu12-8.9.2.26 nvidia-cufft-cu12-11.0.2.54 nvidia-curand-cu12-10.3.2.106 nvidia-cusolver-cu12-11.4.5.107 nvidia-cusparse-cu12-12.1.0.106 nvidia-nccl-cu12-2.19.3 nvidia-nvjitlink-cu12-12.4.127 nvidia-nvtx-cu12-12.1.105\n"
          ]
        }
      ]
    },
    {
      "cell_type": "code",
      "source": [
        "!pip install python-docx\n",
        "# This line installs the python-docx library using the pip package manager.\n",
        "# The '!' at the beginning of the line tells the Jupyter Notebook or Colab environment to execute this as a shell command, rather than as Python code.\n",
        "# The 'pip install python-docx' command downloads and installs the latest version of the python-docx library on your system."
      ],
      "metadata": {
        "colab": {
          "base_uri": "https://localhost:8080/"
        },
        "id": "umncmieiGcnQ",
        "outputId": "7c63c01f-e1ec-46cc-b105-0321512d3553"
      },
      "execution_count": null,
      "outputs": [
        {
          "output_type": "stream",
          "name": "stdout",
          "text": [
            "Collecting python-docx\n",
            "  Downloading python_docx-1.1.0-py3-none-any.whl (239 kB)\n",
            "\u001b[?25l     \u001b[90m━━━━━━━━━━━━━━━━━━━━━━━━━━━━━━━━━━━━━━━━\u001b[0m \u001b[32m0.0/239.6 kB\u001b[0m \u001b[31m?\u001b[0m eta \u001b[36m-:--:--\u001b[0m\r\u001b[2K     \u001b[91m━━━━━━━━━━━━━━━━━━━━━━━━━━━━━━━━━━\u001b[0m\u001b[90m╺\u001b[0m\u001b[90m━━━━━\u001b[0m \u001b[32m204.8/239.6 kB\u001b[0m \u001b[31m6.1 MB/s\u001b[0m eta \u001b[36m0:00:01\u001b[0m\r\u001b[2K     \u001b[90m━━━━━━━━━━━━━━━━━━━━━━━━━━━━━━━━━━━━━━━━\u001b[0m \u001b[32m239.6/239.6 kB\u001b[0m \u001b[31m5.2 MB/s\u001b[0m eta \u001b[36m0:00:00\u001b[0m\n",
            "\u001b[?25hRequirement already satisfied: lxml>=3.1.0 in /usr/local/lib/python3.10/dist-packages (from python-docx) (4.9.4)\n",
            "Requirement already satisfied: typing-extensions in /usr/local/lib/python3.10/dist-packages (from python-docx) (4.11.0)\n",
            "Installing collected packages: python-docx\n",
            "Successfully installed python-docx-1.1.0\n"
          ]
        }
      ]
    },
    {
      "cell_type": "code",
      "source": [
        "!pip install gtts\n",
        "# This line installs the Google Text-to-Speech (gTTS) library using the pip package manager.\n",
        "# The '!' at the beginning of the line tells the Jupyter Notebook or Colab environment to execute this as a shell command, rather than as Python code.\n",
        "# The 'pip install gtts' command downloads and installs the latest version of the gTTS library on your system."
      ],
      "metadata": {
        "colab": {
          "base_uri": "https://localhost:8080/"
        },
        "id": "MYaFcmaKM_IO",
        "outputId": "a560cad4-1fb2-4768-8c21-277ab158f98e"
      },
      "execution_count": null,
      "outputs": [
        {
          "output_type": "stream",
          "name": "stdout",
          "text": [
            "Collecting gtts\n",
            "  Downloading gTTS-2.5.1-py3-none-any.whl (29 kB)\n",
            "Requirement already satisfied: requests<3,>=2.27 in /usr/local/lib/python3.10/dist-packages (from gtts) (2.31.0)\n",
            "Requirement already satisfied: click<8.2,>=7.1 in /usr/local/lib/python3.10/dist-packages (from gtts) (8.1.7)\n",
            "Requirement already satisfied: charset-normalizer<4,>=2 in /usr/local/lib/python3.10/dist-packages (from requests<3,>=2.27->gtts) (3.3.2)\n",
            "Requirement already satisfied: idna<4,>=2.5 in /usr/local/lib/python3.10/dist-packages (from requests<3,>=2.27->gtts) (3.7)\n",
            "Requirement already satisfied: urllib3<3,>=1.21.1 in /usr/local/lib/python3.10/dist-packages (from requests<3,>=2.27->gtts) (2.0.7)\n",
            "Requirement already satisfied: certifi>=2017.4.17 in /usr/local/lib/python3.10/dist-packages (from requests<3,>=2.27->gtts) (2024.2.2)\n",
            "Installing collected packages: gtts\n",
            "Successfully installed gtts-2.5.1\n"
          ]
        }
      ]
    },
    {
      "cell_type": "code",
      "source": [
        "import os  # Import the os module to interact with the operating system\n",
        "import docx  # Import the docx module to handle .docx files\n",
        "\n",
        "def crop_text(text, percentage):\n",
        "    \"\"\"\n",
        "    Crops the given text to the specified percentage.\n",
        "\n",
        "    Args:\n",
        "        text (str): The input text to be cropped.\n",
        "        percentage (float): The percentage of the text to keep (default is 0.8, or 80%).\n",
        "\n",
        "    Returns:\n",
        "        str: The cropped text.\n",
        "    \"\"\"\n",
        "    # Calculate the number of characters to keep\n",
        "    num_chars_to_keep = int(len(text) * percentage)\n",
        "\n",
        "    # Crop the text to the specified percentage\n",
        "    cropped_text = text[:num_chars_to_keep]\n",
        "\n",
        "    return cropped_text\n",
        "\n",
        "\n",
        "def extract_text_from_files(folder_path):\n",
        "    \"\"\"\n",
        "    Extracts text from all .txt and .docx files in the specified folder and returns the combined text.\n",
        "\n",
        "    Args:\n",
        "        folder_path (str): The path to the folder containing the files.\n",
        "\n",
        "    Returns:\n",
        "        str: The combined text from all the files.\n",
        "    \"\"\"\n",
        "    total_text = \"\"  # Initialize an empty string to store the combined text\n",
        "\n",
        "    # Loop through all the files in the specified folder\n",
        "    for filename in os.listdir(folder_path):\n",
        "        # Check if the file has a .txt or .docx extension\n",
        "        if filename.endswith(\".txt\") or filename.endswith(\".docx\"):\n",
        "            # Construct the full file path\n",
        "            file_path = os.path.join(folder_path, filename)\n",
        "\n",
        "            # If the file is a .txt file, read its contents\n",
        "            if filename.endswith(\".txt\"):\n",
        "                with open(file_path, \"r\") as file:\n",
        "                    text = file.read()\n",
        "            # If the file is a .docx file, extract the text from the document\n",
        "            elif filename.endswith(\".docx\"):\n",
        "                doc = docx.Document(file_path)\n",
        "                text = \"\\n\".join([paragraph.text for paragraph in doc.paragraphs])\n",
        "\n",
        "            # Append the extracted text to the total_text variable\n",
        "            total_text += text + \"\\n\"\n",
        "\n",
        "    return total_text\n",
        "\n",
        "# Example usage\n",
        "folder_path = \"/content/Untitled Folder\"  # Set the path to the folder containing the files\n",
        "all_text = extract_text_from_files(folder_path)  # Extract the text from all the files in the folder\n",
        "cropped_text = crop_text(all_text, 0.01)  # Crop the text to 1% of its original length\n",
        "# print(cropped_text)  # Print the cropped text\n",
        "# print(all_text)  # Print the original text"
      ],
      "metadata": {
        "id": "cGNpXpAGE-mR"
      },
      "execution_count": null,
      "outputs": []
    },
    {
      "cell_type": "code",
      "execution_count": null,
      "metadata": {
        "colab": {
          "base_uri": "https://localhost:8080/",
          "height": 93
        },
        "id": "9wzWAWhdgSWv",
        "outputId": "374309f4-fc24-47d3-ccdb-e4544b0ae597"
      },
      "outputs": [
        {
          "output_type": "stream",
          "name": "stdout",
          "text": [
            "coconut, milk\n"
          ]
        },
        {
          "output_type": "execute_result",
          "data": {
            "text/plain": [
              "<IPython.lib.display.Audio object>"
            ],
            "text/html": [
              "\n",
              "                <audio  controls=\"controls\" autoplay=\"autoplay\">\n",
              "                    <source src=\"data:audio/mpeg;base64,//NExAARwFHgAUkYAQBgm2oFAQBAMEjc5zRo0aNtiAAAAAGHh4eHgAAAAAGHh4eHgAAAAG44eHv/AAEf+Yef/4AH//+7/9Gf/5gDv+GP//ADP/MPy6YgEigR+ERf9ajN//NExAwT8nJAAZo4AOVP7/xCHMbHCdDItfxue8YPIEv5DHCzFv7fS6qV/tn5hU56Hmf/55+tjjEMLnf/5jaMfe5ppC5zHKYT//D/HKSDQ00pPcNiNJv68kZFUMBMuNcz//NExA8VchqoAYlQABQSiLUdJzFJzxIDUFwRBY8FoQuTowwBsHxcqABD4mW3zVefRjTLf2nmK5joZd3/6WY4oePB+h1mZjU//J2af6+3/8gUM/5hfgPtcW63i9aWXw35//NExAwVgfacAcw4APw7y8bLeQr0ZUaDQVFpEIh4UhUA0CYIgBiWGBLGw6RPRyqs0/XNzzLJLJOSiW7vS/t6GKteyuiWUdvKEBoNXS9///6+bMKNzjlpZK7ydgFwhj+S//NExAkTif6oAHsKmOxnXGbHvL6J1SzYD8/aPI42tTn2xtkwmHgXyhdruT0/M7kzytNaZ7iBX9F/bb/0YjtZ299HejKNIJDXAiW3eUX//xamxKqg53dA1o5TJlxSxH4i//NExA0VcZqsAMYElCkkNYInbdlpIgsAyQmH4Ziq5mWupXmrjPWHMEhFNO0Flf9vv81dt77Ix3pIRmaBsSx1Cgb9be/2d7u1xZUiP9KzI139P//+t6qZ/+4xILrCXdFq//NExAoVGeawAM4OmCdRSoC9DwL8RaxM1EMwei3rcMVE205M+3ZTKXTTAtYZXaXWX/+OP9//yx1b+VKvNVSIaFqI9B19NX+1tDipCd0/Rvl20P////79FcP/+2WVCe8n//NExAgRweasAM0OmK8frQSM4G2GcRQnSCgaACgmgQM2IYCKyRAvpLRJkLomCPWTL/MX+t/oX+KQYvoNm9Dm9CTeonJv7s/zPjU9ka3O4ZygZJm5AP/TyGMSkKkheMQc//NExBQSMfKoANTKmLSZsdGsBpULAZmBSLYJgA82AKgS1dReJFL6v2/K/y/hIcvqKv8v5SfFRb836+pRX/////gVlfO/+AyxOcKce1GYEjyioLEY/rd3T4jAZGmT2reM//NExB4PuJacANZwTHnHPVXy/+aypjuS1GtT8WrEJHV/VgqczDKDv///+JH+LFotnmqeCAqAm0S5mgmQgTLErmlLrMUHQcOiAxNlw8Uh1gCYW8k+TBiPIyo4AwENs8fN//NExDIScaZ8ANwElFmRa3R/NbqXX/+////94UTfZ////+jorgxi/rsqjKTwBcRfmbj6tRpmtQfXz5fzp7eXNVqYbJ1AwQLo0ZOSIAiD6S4flHO6vP/5Cpa4peLg/BBE//NExDsQ0JpkAVhIAEF/////VZXmahK0GTZAGzScFCcDUVmWwyRskWj0niQKxjjuIYOwT00PCwJYTMrFuJeZH0nWSRcHmYGgSYdAqAvjHdvcuMaIRjG5NNy+a/0Gmm0x//NExEoggyKIAYloAWOnkCj1qWp0k3TTdNM6S54yQmxdJIfhZN/8wNDRCh+MEPEwRNUUUGRUv/+//TW+g3suZqOSo0QnXfGKwkOvQGHhqKH/7LfeZrUkrdUypZRIPgUB//NExBsQSRqsAckoAEDAKyi4Ic88pHZdlsMi4RBYNKemy6tluiSqN1g9DwZ////+hwTGVZTzeVUlKOgJON9buocCigFR7NVckT0188v+7D9THLeuW8/SQIW6vSNGZNL0//NExCwR8RqoAM4ScBQCCkNq168PWzltea442wyXo93eimyr/////63Pv1KpAxA6jmlThUotc2LWbKIcbm0p0oXX7Yp8c+1/5c1vY0lTXy4KJkAQMcDoInSJUBYVFqEB//NExDcQONq4AMYMcOExM41f/pyH/9St3VIDT4csZ23iaxjKgsAWOgFcX4bxLrt8zPq2XrCrY2327T2kdOc0iRIkRqRwMFCQlHOclTxzJKVCQiDwNP/+JZVvLB2O2Yyy//NExEkRQOakANPMcOM0mVNbaHAwcxNvKQ4EXswsyzVhluLwJPL2l0ocie/tels415+TCpJALkuf9U6Rnia5XJnKRoJakwaZY3K9Txp8dMj2vpu1IQKTnJmg8LNqrcST//NExFcSMTqMAN4ScCGIz12yxculN5Tqg0C2+NPluqS9lnqbx5SCh6GmG8QEi4legZWaegmqnklTtuRSzNnPZ57nFI/K/K6K0s6yipf85VGXLlMtU6wQgmIpI7DI0x2D//NExGERcTaMAN4ScG5RKJLSZ4z1SGJzOE4SUCjJMybFBgqBZAhmvsIN+MLpSsuquoQ/9bKEGJ9b5/58du/CDK7u9H3+ZhYrF73C9lPm5B8GAmmTkFfB4yR1Xgn9jaQN//NExG4UaT6gAM4ScR9z8h6yZu8nH+vhwLXVBMClmJw+tdquttWml53vn8mcbnMbrrYUJ0fpQv3NCJUDbgxR+xgi42uWoCQHlDTgFZao8GrmAIpPRdkm/yQFxB0kR3h6//NExG8RaT6sAMPYcDy4XJkiQJZ51qjVqD69BHUlnElIHoiWa1vJuzMpUQcYxFE2CrG7hFhJO4Cwpy5Fh7PLk21Duaw9ipBLQOdg0sTUH5bCCj2LpsOwtyHXP1Jtn9T6//NExHwROTqwAMPacH31tWXzQKE119s61+mZ+nMCaekSnUopZSn0oxNRgaTNxtD9S2R2l4y3bR3SvS9ebUaTc6tRIBcTUmB9HKlEWUkCRKT1XOdB99HtoI0DUXLMMtYq//NExIoRATqsAJYacIZlvQq1uSgaU9whi5M6z0rY8sgL9kdjBDeopQRSi2SlVq09kKzEUt8mDjZAnpPHiMFSclZVUK1xX3+/7+f3shMgRFz6Ho9ti8O1RPNFbCg0S/eA//NExJkSWTKoAMYacCI0jWAPVXVOjO2iRSL4TBrZbkBXS6d1xP9yW7dPeGJrNElm3mZdZkSPQLuuDQCFH0/7///6P//+upVVTaOMJikqVSDkra2gwqBDcANibSO2qLBT//NExKIRAS6kAMPWcNGo3KqtrX8KN6lstliIVIzwDBmE0IZuLPU8Vdnod9dlXXO7q/////+8DeknKspc5y+Duu8vtrjZ36bjBw+VkXBEycNIWWf2qzI//zOvnlzTQQgR//NExLEQ4NKcAMPecAVRsdaxyEva4WcCyU30JlZVYaiEtoAqT05pt////rolQ9wII4UanlErnNPFuJ0B5UyYmMVTkxPetazVazNaz//2oklQMicSJBRKiRI6GlPZLA1E//NExMARQMaMAMvScEDRLER7yoalQVO9CGCUFQ1/////XQlMwScjsHl1K4PAjUkkLi/3+5sW1Yv+o8qihhaVi//MnQEJjJkyDgtFUgMExUOGQTCKB5ACC1YqafjWTQWF//NExM4RoMZkAMJMcL/8cLGW9TQGKmkKOLhtsgYjO5pBCgGAzgAFiAAo8m0PDk1mBBAYGoGLiFlxCDukEQHB+Bkm8M3H2/4CMOAIBEfz+CM3n/////+HT4GDj///j4CQ//NExNoSKNpIAHsMcAjniEgjM8DSCMz4/BGf//iFOAQCsii1fzLEkjQCiaE4SFVc41CiYBClDolcoOCIKgqIjoNTvnhEt2oOiUBHQaW7UeEv/kSrjxH8NCEYHRK4NKPC//NExOQR8QH0ADGGcFOgqWPCWGlP8spMQU1FMy4xMDCqqqqqqqqqqqqqqqqqqqqqqqqqqqqqqqqqqqqqqqqqqqqqqqqqqqqqqqqqqqqqqqqqqqqqqqqqqqqq+WKww44g//NExO8WYMnoAEmGcVgAcMo4wxo6f5GVlyMyMjIyM0dKymRGR5kZE6BwQUUMOOIFgAcMpkRkeZGRGjpWIzIyMjIzLlyMi+KxGMMLQOCCihhY4gWjz/3lZRxhhYgDCBWG//NExOgS2JHgADGGTBx0YH/rNVbUWWWWRgcFYPpK5hCDmhojvEr14m+mn////nppvoTm5oTuiURXgii2EMEIOYQnN3RK8SpXib6af///+e+m5oTk5oTvEiUXBFc3MIQc//NExKwAAANIAAAAAMIjRhhEsQInmHn////6zzwzSMVhRqTGqqsarGojDFDFF//+KGJhYUJhCQiEYSarFJjUmMKakzVY0artr/////+uu2pMbGpMakyxqsagLihooKCo//NExP8aIo0UABjGubCiwYWOWOP/////5pwoYkxBTUUzLjEwMKqqqqqqqqqqqqqqqqqqqqqqqqqqqqqqqqqqqqqqqqqqqqqqqqqqqqqqqqqqqqqqqqqqqqqqTQyCwGbA//NExOkVal3UABjGuTILAaYBkEYDTAMkMBpgGSGAKYDEhkFDAYkMgoYDEhkFDAYkMkM6VieEIdKaPCEPKaPCEPFNHhCHimjwhDxTR2GEPFNHYYQ8U0rDCA8U0rDCA8J0//NExOYTqkXEABhGuawwgPCdKwwgPCdKwwh2J0rCElDA0HUM4wkMDQUoJxhIaoKCgnGEhnIUFBOMoZxhQUE4ygnGFBY4kKCcYUFQxIUE4zBUHEhQTiWBoOJCxxIYGg4k//NExKwAAANIAAAAACoYkMDQdQqGJDA0FKFQcSGqClBoOJDOQoKDQdQzkKC1BSgnGFBagpQTjCgtIUFBOMwWkKCgnEsDcYUFjiWBuMKCoYkMDcZgqGJDA1oHOGrHGtn4//NExP8asx2kAAhGvE4IQdEzAyTQ1e/vinpAeUzDfxyvAgAITRP4gAId8TqB8H6w8XB98oGLy58prB9/Lg++UlzWCEh/+Ud/Ln/E9eaKAAYVIKNxnDRWHUMmiMDEwyeF//NExOcjMxnEABjGvU22a6fAFARTMWAKcZycimhPAkIZ/+fZnA+OLQd/++Ktip80N4//q+X2dHYecHPcat/+oZoVWLGIkYBCRhNFHAA0BgSk+FQAYAARpcOqVWoeWUkn//NExK0RWLnoAU8YAN/4Ak2H/hb+Z0wm0pg8XuusCXfWePKfZ48pksq77qkntuzGYMXWz/6jCm/lMQWDCyuDRqNAxYRCEkFIK4xfNcZXQH6LfKSFzv/tqifPXLz451Bp//NExLoSERpkAZxYALlva6MuP/CcZ/4S+z7ywsE0SdlRThHzdhPw1/RFQf//qpRO1m6glgduWNB5tOgAqzHRTlrTysOHBDQcb9PlEXfn+buYU/cKSQWP4BuP1e5tkRnn//NExMQR2RJ4AdxgAHifIOJmq8QHjyP4DA+b59XfRr/N2CJe7x5l4PiAuflAAMBBwPif/5Rzv////wxV7/4M/BUUfjOoJMiwxwhYncUw3C+aqUuE38JVxP7Pon5V7WtD//NExM8ScQ58AOPecMFlNNQFChk6MfKJQzuDl8OJxYyeTRhxPrxJEIJn5T/kFUXx8g8pcJ6gAmQDVHW+uQ3Yz+PQ+UI1+2qdn3/BZXBKG8da9FQHx/JmPQgjJ96K5xnq//NExNgYCS6UANYecLP3LsqknnIpxsqBHMb++OAhd/o2UpXLutwQBXJ8W8aVR4z1efDtxGYDjhOWdVPV/OZ4zL6W//cF1f9rSodcfJ+k5Y2TWcQo1P/uu/8Wx/8Z/xWD//NExMoRETK0AMvWcBI961eikJbPmlChn/oV/LG43Uw5xJnLdZZBtXJ5Xp6iBJ5xsOLOavMjQNnctuQgIea/hJWBqDRbPGIs/dK/rPcxKb1oJ9CF+7e/nTQIJAQ2CAOu//NExNgR4Ta4AJvWcC4irFZMNeJtGAq2OSr////pz1usnoPs4wBGVsg5I2A5BEGMhwzsFYV97zXC96asZn/Uzct1YLQTq+SBf7HdLL4d3jvtmtz/qVtP//u9byPQCFop//NExOMSkUK0AMYecGmx88BQONzLk/mjipZXmFZweYOC/zPwTEyNTeFQ0fwKTHk+YwKqpZcsiASgMM15NBOlTIeOAjl8R6YACtFpLqT8RlOV+zkHVpYoKUbv9pMUNA+R//NExOsVgUqkAM5ElBKKi7VCI089ixtXWyOvM0KktYglaa4C3sTMWjMwPQHMQMQ+MtRN8jVKDxg8slaIAEINmAaHUQiMT3sVaI1EoVuz1qW3LVHau7vd3vn/+7/en/////NExOgTgVqkAM4ElGSzArmY1isezLGio/5X2/3Je5eCJBGjUxcmMCE0HQQyzMaTB1sBICzECalMJPmArHWMIIUUVhQucGyNZF+NAcrK7WtZYcz7zLX//P/////9t7qJ//NExO0VqKKcAMZwTFZUsrSoqB2F/kn/W68q1NYUAvwmOdeYoMtEAXzZA1QDDp6NjRqPRzfgamAH6LTQLTgkpMac+TQIKdoaoh6xR/ar2WYCgr0+//QYYKhoOuQJQEfR//NExOkVeZ6QANYKlPaHTrbRZCn4oeQiuhEbWYAF5wDoKOqrkQCOsQhl5YyY8AMTzyy3Xdp006YKZdZ+46LpWYNg7l41kYUSnYtXstfa1lpTm7qJM51bg85EzQ1piRZL//NExOYT+ZaMAM4ElJgWa4iGRjv0f/2KVToqBNgNRQtVuCy4G5YGAAV7RJuKxXokUBQM5LOXE4W1DVScqEkifJcBZE1SZbY6pNI4TpQ06TpiN8V5AeoymXFyd4gsMV7F//NExOkToJJ0ANZeTK0mfPn8GaWGKJEZz3Ku7HV2gl6a1IxSp1+2Sc5plCktEq5pHn0iYDdLEbzSJDd+ZcmURf+qecmXr74Sf5tu+bJvj5V/L85tqGYqwN9VNbjTjhFP//NExO0UqT5kANYEcJRFaVVdhn8QeDCGozjJ6bOHpbTW6SWY416c0RAiPFRFEYAyYRip4hoKB0LqcaHCCjDxcwaLpRo8SNZ3pd3rfNL2lm+1QUOphiU3d/o7XaTFwMPZ//NExO0k0uY0AMvMucdDMdIi1R2Tvj4MKGx2w5bHJlz5UkJFT3KEmS8TPc21dwi83SysDJ6aLcokNCYHhFLucm9Q6vhq37qOd92yUQNCWKw59bLJMl1EwKmMYYQg/Liz//NExKwhOxIwAVtAAYOwoF8WoAvABMDF/GHHufTpgYgF+FWC5jAF3+aUC+m6BcIhoOQnmz/6kLJvpmh0vj3LxcZjQmf29l001KRrTZA3RN1Euu5goof/+71XughXQ0WU//NExHogSyJsAY9oAZuZp01HjCFVO/b5WN/vFb6N4ucVwVmYbnBi5mxAj+cSjB7OVdDfOElqLmDThgTmhkgQRJg1NCEF4hh0AMLANEUQBgfDTxww0UKV5ehxlK5Zc0yT//NExEsgqxaEAc9AASsJfcLEXs3V3bO6ig5GLlbkcQtQi3Zz1Eslr1Q+9YrqW3nq6Xl6uLqemTIt0PSIGGvRjIXRZDgCBaGyLMxrI5xAWEU2/arb3//+7jdt+NM2+ryV//NExBsWUiaUAUcwAK8IHUSSLOQuw4b0rfTq1T9plqz/Nx+7v2/x33u7NmbmN3tp7cp6ett3x1uMBBLhUIC3lAtSRdLHYaahzrVGKgaocG7nJFK6s82t/YhNTqqG7nei//NExBQVkqaUAYs4AMiTRY8S+Oiobng+JGlB4RWE2mgZdDksRZTHPf+YcaTR0Fzz1NkmNO/5g1MOjhVy9EHhsiKytqn/7+dOLHy5zSz5KuoSndbGtRQhG2+6Wc8o/cf///NExBAWGf4MAccwAF/2z1m7vrHmZONl6YCYKSHLw6k2UIXpUxs7W48421r+m2Zzu0z3ytmJ7zOHNv3ccjGm8Y8q4FUNUeYtyySHVqWA0rOkbtbpsjUFV5fP3OWRFCEP//NExAoQcPoEADBGcHCJ5c9nSYybjmVINSY+Cs4KoIhIDNIh06RFXKHqUNGjBKEnyR7rdKlWdouN72qfSd97PLMXbU+tDKR2T5GTQgmQ0atZDJrDL/yNWCgxKK/8qmSl//NExBsRsLm4ABBGTQcsVpmbsirsqiJQ1atUVTLFZlitv+ypKGq769/orVdb7Ldt//tFWr////qhFwAEKBgboBi8AZf8BkPzHwHD+v//+B0fHPAGQxGPgGADo//34DgB//NExCcSQDHkABjGAZD2gN4A4PcHvAOCOv//z8DwERzw/xHX5+AeIzH4GQDI7w8MBOFARMAhWQ2K75cTQpgKxFQXf//+JsFgKxFApIKbBum//+N6LxFQjoR2IrorIbid//NExDER2CXwABCGAY////DoTwXh2R0X5uHYuiuCuhXRXDuKIkhIoDAhZhO4cjIwDf9iCRkcsayyyxlayywMFDAwQMIHCAsLCwOO/xYWFhZv+VCoqKiosLCwsF9iR4qK//NExDwRWPj4ADBGcIqKCwsLfWKiorVMQU1FMy4xMDBVVVVVVVVVVVVVVVVVVVVVVVVVVVVVVVVVVVVVVVVVVVVVVVVVVVVVVVVVVVVVVVVVVVVVVVVVVVVVTEFNRTMu//NExEkAAANIAAAAADEwMFVVVVVVVVVVVVVVVVVVVVVVVVVVVVVVVVVVVVVVVVVVVVVVVVVVVVVVVVVVVVVVVVVVVVVVVVVVVVVVVVVVVVVVVVVVVVVVVVVVVVVVVVVV//NExJwAAANIAAAAAFVVVVVVVVVVVVVVVVVVVVVVVVVVVVVVVVVVVVVVVVVVVVVVVVVVVVVVVVVVVVVVVVVVVVVVVVVVVVVVVVVVVVVVVVVVVVVVVVVVVVVVVVVVVVVV//NExKwAAANIAAAAAFVVVVVVVVVVVVVVVVVVVVVVVVVVVVVVVVVVVVVVVVVVVVVVVVVVVVVVVVVVVVVVVVVVVVVVVVVVVVVVVVVVVVVVVVVVVVVVVVVVVVVVVVVVVVVV\" type=\"audio/mpeg\" />\n",
              "                    Your browser does not support the audio element.\n",
              "                </audio>\n",
              "              "
            ]
          },
          "metadata": {},
          "execution_count": 15
        }
      ],
      "source": [
        "from transformers import AutoModelForQuestionAnswering, AutoTokenizer, pipeline\n",
        "# This line imports the necessary modules from the transformers library for question-answering tasks.\n",
        "\n",
        "from gtts import gTTS\n",
        "# This line imports the Google Text-to-Speech (gTTS) library to convert the answer text to speech.\n",
        "\n",
        "import os\n",
        "# This line imports the os module to interact with the operating system.\n",
        "\n",
        "model_name = \"deepset/roberta-base-squad2\"\n",
        "# This line sets the name of the pre-trained question-answering model to be used.\n",
        "\n",
        "# a) Get predictions\n",
        "nlp = pipeline('question-answering', model=model_name, tokenizer=model_name)\n",
        "# This line creates a question-answering pipeline using the specified pre-trained model and tokenizer.\n",
        "\n",
        "context = 'The option to convert models between FARM and transformers gives freedom to the user and let people easily switch between frameworks.'\n",
        "# This line sets the context for the question-answering task. In this case, it's a sample text.\n",
        "\n",
        "QA_input = {\n",
        "    'question': 'What are the major Ingredients in all the products ?',\n",
        "    'context': cropped_text\n",
        "}\n",
        "# This dictionary sets the question and the context for the question-answering task. The 'context' is set to the 'cropped_texta' variable.\n",
        "\n",
        "res = nlp(QA_input)\n",
        "# This line passes the question-answering input to the pipeline and stores the result in the 'res' variable.\n",
        "\n",
        "print(res['answer'])\n",
        "# This line prints the answer generated by the question-answering model.\n",
        "\n",
        "# Send output to text-to-speech\n",
        "tts = gTTS(text=res['answer'], lang='en')\n",
        "# This line creates a Google Text-to-Speech (gTTS) object with the generated answer text and the English language.\n",
        "\n",
        "tts.save(\"answer.mp3\")\n",
        "# This line saves the generated audio as an MP3 file named \"answer.mp3\".\n",
        "\n",
        "from IPython.display import Audio\n",
        "# This line imports the Audio module from the IPython.display library to play the generated MP3 file.\n",
        "\n",
        "Audio(filename='answer.mp3', autoplay=True)\n",
        "# This line displays the generated MP3 file and automatically plays it in the Colab notebook."
      ]
    }
  ]
}